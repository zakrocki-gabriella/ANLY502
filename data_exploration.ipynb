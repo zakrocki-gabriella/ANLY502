{
 "cells": [
  {
   "cell_type": "code",
   "execution_count": 1,
   "metadata": {},
   "outputs": [],
   "source": [
    "import findspark\n",
    "findspark.init()\n",
    "\n",
    "from pyspark import SparkContext\n",
    "sc = SparkContext()\n",
    "\n",
    "from pyspark.sql import SparkSession\n",
    "spark = SparkSession.builder.appName(\"ANLY502-Final-Project\").getOrCreate()"
   ]
  },
  {
   "cell_type": "code",
   "execution_count": 58,
   "metadata": {},
   "outputs": [],
   "source": [
    "from matplotlib import pyplot as plt"
   ]
  },
  {
   "cell_type": "code",
   "execution_count": 2,
   "metadata": {},
   "outputs": [],
   "source": [
    "data_files = \"s3://jk2060/final_project/\"\n",
    "reddit_df = spark.read.json(data_files)"
   ]
  },
  {
   "cell_type": "code",
   "execution_count": 3,
   "metadata": {},
   "outputs": [
    {
     "data": {
      "text/plain": [
       "DataFrame[archived: boolean, author: string, author_cakeday: boolean, author_created_utc: bigint, author_flair_background_color: string, author_flair_css_class: string, author_flair_richtext: array<struct<a:string,e:string,t:string,u:string>>, author_flair_template_id: string, author_flair_text: string, author_flair_text_color: string, author_flair_type: string, author_fullname: string, author_patreon_flair: boolean, body: string, can_gild: boolean, can_mod_post: boolean, collapsed: boolean, collapsed_reason: string, controversiality: bigint, created_utc: bigint, distinguished: string, edited: string, gilded: bigint, gildings: struct<gid_1:bigint,gid_2:bigint,gid_3:bigint>, id: string, is_submitter: boolean, link_id: string, no_follow: boolean, parent_id: string, permalink: string, quarantined: boolean, removal_reason: string, retrieved_on: bigint, score: bigint, send_replies: boolean, stickied: boolean, subreddit: string, subreddit_id: string, subreddit_name_prefixed: string, subreddit_type: string]"
      ]
     },
     "execution_count": 3,
     "metadata": {},
     "output_type": "execute_result"
    }
   ],
   "source": [
    "reddit_df.cache()"
   ]
  },
  {
   "cell_type": "code",
   "execution_count": 4,
   "metadata": {},
   "outputs": [
    {
     "name": "stdout",
     "output_type": "stream",
     "text": [
      "root\n",
      " |-- archived: boolean (nullable = true)\n",
      " |-- author: string (nullable = true)\n",
      " |-- author_cakeday: boolean (nullable = true)\n",
      " |-- author_created_utc: long (nullable = true)\n",
      " |-- author_flair_background_color: string (nullable = true)\n",
      " |-- author_flair_css_class: string (nullable = true)\n",
      " |-- author_flair_richtext: array (nullable = true)\n",
      " |    |-- element: struct (containsNull = true)\n",
      " |    |    |-- a: string (nullable = true)\n",
      " |    |    |-- e: string (nullable = true)\n",
      " |    |    |-- t: string (nullable = true)\n",
      " |    |    |-- u: string (nullable = true)\n",
      " |-- author_flair_template_id: string (nullable = true)\n",
      " |-- author_flair_text: string (nullable = true)\n",
      " |-- author_flair_text_color: string (nullable = true)\n",
      " |-- author_flair_type: string (nullable = true)\n",
      " |-- author_fullname: string (nullable = true)\n",
      " |-- author_patreon_flair: boolean (nullable = true)\n",
      " |-- body: string (nullable = true)\n",
      " |-- can_gild: boolean (nullable = true)\n",
      " |-- can_mod_post: boolean (nullable = true)\n",
      " |-- collapsed: boolean (nullable = true)\n",
      " |-- collapsed_reason: string (nullable = true)\n",
      " |-- controversiality: long (nullable = true)\n",
      " |-- created_utc: long (nullable = true)\n",
      " |-- distinguished: string (nullable = true)\n",
      " |-- edited: string (nullable = true)\n",
      " |-- gilded: long (nullable = true)\n",
      " |-- gildings: struct (nullable = true)\n",
      " |    |-- gid_1: long (nullable = true)\n",
      " |    |-- gid_2: long (nullable = true)\n",
      " |    |-- gid_3: long (nullable = true)\n",
      " |-- id: string (nullable = true)\n",
      " |-- is_submitter: boolean (nullable = true)\n",
      " |-- link_id: string (nullable = true)\n",
      " |-- no_follow: boolean (nullable = true)\n",
      " |-- parent_id: string (nullable = true)\n",
      " |-- permalink: string (nullable = true)\n",
      " |-- quarantined: boolean (nullable = true)\n",
      " |-- removal_reason: string (nullable = true)\n",
      " |-- retrieved_on: long (nullable = true)\n",
      " |-- score: long (nullable = true)\n",
      " |-- send_replies: boolean (nullable = true)\n",
      " |-- stickied: boolean (nullable = true)\n",
      " |-- subreddit: string (nullable = true)\n",
      " |-- subreddit_id: string (nullable = true)\n",
      " |-- subreddit_name_prefixed: string (nullable = true)\n",
      " |-- subreddit_type: string (nullable = true)\n",
      "\n"
     ]
    }
   ],
   "source": [
    "# Define schema\n",
    "reddit_df.printSchema()"
   ]
  },
  {
   "cell_type": "code",
   "execution_count": 5,
   "metadata": {},
   "outputs": [
    {
     "name": "stdout",
     "output_type": "stream",
     "text": [
      "+--------+---------+--------------+------------------+-----------------------------+----------------------+---------------------+------------------------------------+-----------------+-----------------------+-----------------+---------------+--------------------+----------------------------------------------+--------+------------+---------+----------------+----------------+-----------+-------------+------+------+---------+-------+------------+---------+---------+----------+-------------------------------------------------------------------------------------+-----------+--------------+------------+-----+------------+--------+------------+------------+-----------------------+--------------+\n",
      "|archived|author   |author_cakeday|author_created_utc|author_flair_background_color|author_flair_css_class|author_flair_richtext|author_flair_template_id            |author_flair_text|author_flair_text_color|author_flair_type|author_fullname|author_patreon_flair|body                                          |can_gild|can_mod_post|collapsed|collapsed_reason|controversiality|created_utc|distinguished|edited|gilded|gildings |id     |is_submitter|link_id  |no_follow|parent_id |permalink                                                                            |quarantined|removal_reason|retrieved_on|score|send_replies|stickied|subreddit   |subreddit_id|subreddit_name_prefixed|subreddit_type|\n",
      "+--------+---------+--------------+------------------+-----------------------------+----------------------+---------------------+------------------------------------+-----------------+-----------------------+-----------------+---------------+--------------------+----------------------------------------------+--------+------------+---------+----------------+----------------+-----------+-------------+------+------+---------+-------+------------+---------+---------+----------+-------------------------------------------------------------------------------------+-----------+--------------+------------+-----+------------+--------+------------+------------+-----------------------+--------------+\n",
      "|null    |[deleted]|null          |null              |                             |null                  |null                 |null                                |null             |dark                   |null             |null           |null                |[deleted]                                     |true    |false       |true     |null            |0               |1550448000 |null         |false |0     |[0, 0, 0]|egp0iaf|false       |t3_arqt23|true     |t3_arqt23 |/r/teenagersnew/comments/arqt23/nothing_better_than_some_french_songs/egp0iaf/       |false      |null          |1554361170  |1    |true        |false   |teenagersnew|t5_hcxiu    |r/teenagersnew         |public        |\n",
      "|null    |Hage1in  |null          |1467151170        |                             |C01 R12               |[[, text, Hanzo,]]   |acf08894-69e6-11e4-9233-12313d14a2eb|Hanzo            |dark                   |richtext         |t2_z3fm0       |false               |That’s it folks. Match of the year. Wrap it up|true    |false       |false    |null            |0               |1550448000 |null         |false |0     |[0, 0, 0]|egp0iag|false       |t3_aro48f|false    |t3_aro48f |/r/Overwatch/comments/aro48f/overwatch_league_2019_season_stage_1week_1day_4/egp0iag/|false      |null          |1554361170  |5    |true        |false   |Overwatch   |t5_2u5kl    |r/Overwatch            |public        |\n",
      "|null    |Notosk   |null          |1308133065        |null                         |null                  |[]                   |null                                |null             |null                   |text             |t2_5dlw5       |false               |For 3 grand it better does                    |true    |false       |false    |null            |0               |1550448000 |null         |false |0     |[0, 0, 0]|egp0iah|false       |t3_arm1g0|true     |t1_egosu01|/r/funny/comments/arm1g0/i_work_at_the_home_depot_in_the_appliance/egp0iah/          |false      |null          |1554361170  |3    |true        |false   |funny       |t5_2qh33    |r/funny                |public        |\n",
      "+--------+---------+--------------+------------------+-----------------------------+----------------------+---------------------+------------------------------------+-----------------+-----------------------+-----------------+---------------+--------------------+----------------------------------------------+--------+------------+---------+----------------+----------------+-----------+-------------+------+------+---------+-------+------------+---------+---------+----------+-------------------------------------------------------------------------------------+-----------+--------------+------------+-----+------------+--------+------------+------------+-----------------------+--------------+\n",
      "only showing top 3 rows\n",
      "\n"
     ]
    }
   ],
   "source": [
    "reddit_df.show(3, False)"
   ]
  },
  {
   "cell_type": "code",
   "execution_count": 6,
   "metadata": {},
   "outputs": [],
   "source": [
    "# Drop columns that are not important in the project.\n",
    "columns_to_drop = ['author_cakeday', \n",
    "                   'author_created_utc',\n",
    "                   'author_flair_background_color',\n",
    "                   'author_flair_richtext',\n",
    "                   'author_flair_template_id',\n",
    "                   'author_flair_text_color',\n",
    "                   'author_flair_type',\n",
    "                   'author_fullname',\n",
    "                   'author_patreon_flair',\n",
    "                   'can_gild',\n",
    "                   'can_mod_post',\n",
    "                   'collapsed',\n",
    "                   'collapsed_reason',\n",
    "                   'gildings',\n",
    "                   'is_submitter',\n",
    "                   'no_follow',\n",
    "                   'permalink',\n",
    "                   'quarantined',\n",
    "                   'removal_reason',\n",
    "                   'send_replies',\n",
    "                   'stickied',\n",
    "                   'subreddit_name_prefixed',\n",
    "                   'subreddit_type'\n",
    "                  ]\n",
    "reddit_df = reddit_df.drop(*columns_to_drop)\n"
   ]
  },
  {
   "cell_type": "code",
   "execution_count": 7,
   "metadata": {},
   "outputs": [
    {
     "name": "stdout",
     "output_type": "stream",
     "text": [
      "root\n",
      " |-- archived: boolean (nullable = true)\n",
      " |-- author: string (nullable = true)\n",
      " |-- author_flair_css_class: string (nullable = true)\n",
      " |-- author_flair_text: string (nullable = true)\n",
      " |-- body: string (nullable = true)\n",
      " |-- controversiality: long (nullable = true)\n",
      " |-- created_utc: long (nullable = true)\n",
      " |-- distinguished: string (nullable = true)\n",
      " |-- edited: string (nullable = true)\n",
      " |-- gilded: long (nullable = true)\n",
      " |-- id: string (nullable = true)\n",
      " |-- link_id: string (nullable = true)\n",
      " |-- parent_id: string (nullable = true)\n",
      " |-- retrieved_on: long (nullable = true)\n",
      " |-- score: long (nullable = true)\n",
      " |-- subreddit: string (nullable = true)\n",
      " |-- subreddit_id: string (nullable = true)\n",
      "\n"
     ]
    }
   ],
   "source": [
    "# Print updated schema\n",
    "reddit_df.printSchema()"
   ]
  },
  {
   "cell_type": "code",
   "execution_count": 7,
   "metadata": {},
   "outputs": [
    {
     "data": {
      "text/plain": [
       "DataFrame[archived: boolean, author: string, author_flair_css_class: string, author_flair_text: string, body: string, controversiality: bigint, created_utc: bigint, distinguished: string, edited: string, gilded: bigint, id: string, link_id: string, parent_id: string, retrieved_on: bigint, score: bigint, subreddit: string, subreddit_id: string]"
      ]
     },
     "execution_count": 7,
     "metadata": {},
     "output_type": "execute_result"
    }
   ],
   "source": [
    "reddit_df.cache()"
   ]
  },
  {
   "cell_type": "code",
   "execution_count": null,
   "metadata": {},
   "outputs": [],
   "source": [
    "reddit_df.count()"
   ]
  },
  {
   "cell_type": "code",
   "execution_count": 8,
   "metadata": {},
   "outputs": [],
   "source": [
    "# Remove deleted comments\n",
    "reddit_df = reddit_df.filter(( reddit_df.body != '[deleted]'))"
   ]
  },
  {
   "cell_type": "code",
   "execution_count": 32,
   "metadata": {},
   "outputs": [
    {
     "data": {
      "text/plain": [
       "29273619"
      ]
     },
     "execution_count": 32,
     "metadata": {},
     "output_type": "execute_result"
    }
   ],
   "source": [
    "reddit_df.count()"
   ]
  },
  {
   "cell_type": "code",
   "execution_count": 33,
   "metadata": {},
   "outputs": [],
   "source": [
    "reddit_df.createOrReplaceTempView(\"reddit_df_tbl\")"
   ]
  },
  {
   "cell_type": "code",
   "execution_count": 99,
   "metadata": {},
   "outputs": [
    {
     "name": "stdout",
     "output_type": "stream",
     "text": [
      "+-----------------+\n",
      "|       avg(score)|\n",
      "+-----------------+\n",
      "|8.494859859998861|\n",
      "+-----------------+\n",
      "\n",
      "+---------------------+\n",
      "|avg(controversiality)|\n",
      "+---------------------+\n",
      "|  0.01936098164015867|\n",
      "+---------------------+\n",
      "\n",
      "+--------------------+\n",
      "|         avg(gilded)|\n",
      "+--------------------+\n",
      "|3.420485864764449E-4|\n",
      "+--------------------+\n",
      "\n"
     ]
    }
   ],
   "source": [
    "# Average score / Average controversiality / Average gilded.\n",
    "spark.sql(\"SELECT AVG(score) FROM reddit_df_tbl\").show()\n",
    "spark.sql(\"SELECT AVG(controversiality) FROM reddit_df_tbl\").show()\n",
    "spark.sql(\"SELECT AVG(gilded) FROM reddit_df_tbl\").show()\n",
    "\n"
   ]
  },
  {
   "cell_type": "code",
   "execution_count": 100,
   "metadata": {},
   "outputs": [
    {
     "name": "stdout",
     "output_type": "stream",
     "text": [
      "+----------+\n",
      "|max(score)|\n",
      "+----------+\n",
      "|     53571|\n",
      "+----------+\n",
      "\n",
      "+-----------+\n",
      "|max(gilded)|\n",
      "+-----------+\n",
      "|         34|\n",
      "+-----------+\n",
      "\n"
     ]
    }
   ],
   "source": [
    "# Maximum score / Maximum gilded.\n",
    "spark.sql(\"SELECT MAX(score) FROM reddit_df_tbl\").show()\n",
    "spark.sql(\"SELECT MAX(gilded) FROM reddit_df_tbl\").show()"
   ]
  },
  {
   "cell_type": "code",
   "execution_count": 101,
   "metadata": {},
   "outputs": [
    {
     "name": "stdout",
     "output_type": "stream",
     "text": [
      "+----------+\n",
      "|min(score)|\n",
      "+----------+\n",
      "|     -2252|\n",
      "+----------+\n",
      "\n",
      "+-----------+\n",
      "|min(gilded)|\n",
      "+-----------+\n",
      "|          0|\n",
      "+-----------+\n",
      "\n"
     ]
    }
   ],
   "source": [
    "# Minimum score / Minimum gilded.\n",
    "spark.sql(\"SELECT MIN(score) FROM reddit_df_tbl\").show()"
   ]
  },
  {
   "cell_type": "code",
   "execution_count": 42,
   "metadata": {},
   "outputs": [
    {
     "name": "stdout",
     "output_type": "stream",
     "text": [
      "+---------------------+-------------+\n",
      "|sum(controversiality)|    subreddit|\n",
      "+---------------------+-------------+\n",
      "|                21490|     politics|\n",
      "|                13116|    AskReddit|\n",
      "|                12517|          nba|\n",
      "|                11200|    worldnews|\n",
      "|                11075|         news|\n",
      "|                 8463|       soccer|\n",
      "|                 8196|         pics|\n",
      "|                 7946|        funny|\n",
      "|                 6769|AnthemTheGame|\n",
      "|                 6632|   ukpolitics|\n",
      "+---------------------+-------------+\n",
      "\n"
     ]
    }
   ],
   "source": [
    "# Top 10 Controversial Subreddits.\n",
    "spark.sql(\"SELECT SUM(controversiality), subreddit FROM reddit_df_tbl GROUP BY subreddit ORDER BY SUM(controversiality) DESC LIMIT 10\").show()"
   ]
  },
  {
   "cell_type": "code",
   "execution_count": 46,
   "metadata": {},
   "outputs": [],
   "source": [
    "top10_controversal = spark.sql(\"SELECT SUM(controversiality) \\\n",
    "                                as total_controversiality, \\\n",
    "                               subreddit FROM reddit_df_tbl \\\n",
    "                               GROUP BY subreddit \\\n",
    "                               ORDER BY total_controversiality \\\n",
    "                               DESC LIMIT 10\")"
   ]
  },
  {
   "cell_type": "code",
   "execution_count": 47,
   "metadata": {},
   "outputs": [],
   "source": [
    "top10_controversal_pd = top10_controversal.toPandas()"
   ]
  },
  {
   "cell_type": "code",
   "execution_count": 57,
   "metadata": {},
   "outputs": [
    {
     "data": {
      "text/plain": [
       "<matplotlib.axes._subplots.AxesSubplot at 0x7f6284e49990>"
      ]
     },
     "execution_count": 57,
     "metadata": {},
     "output_type": "execute_result"
    },
    {
     "data": {
      "image/png": "[encoded data removed]",
      "text/plain": [
       "<Figure size 432x288 with 1 Axes>"
      ]
     },
     "metadata": {
      "needs_background": "light"
     },
     "output_type": "display_data"
    }
   ],
   "source": [
    "top10_controversal_pd.plot(kind='bar',x='subreddit',y='total_controversiality', title =\"Gild ranking of author\")"
   ]
  },
  {
   "cell_type": "code",
   "execution_count": 91,
   "metadata": {},
   "outputs": [
    {
     "name": "stdout",
     "output_type": "stream",
     "text": [
      "+-----------+-------------+\n",
      "|total_score|    subreddit|\n",
      "+-----------+-------------+\n",
      "|   33846493|    AskReddit|\n",
      "|    5044640|     politics|\n",
      "|    3986616|          nba|\n",
      "|    3013354|       soccer|\n",
      "|    2995804|todayilearned|\n",
      "|    2631626|        funny|\n",
      "|    2542158|       gaming|\n",
      "|    2507304|         news|\n",
      "|    2333532|          aww|\n",
      "|    2287679|         pics|\n",
      "+-----------+-------------+\n",
      "\n"
     ]
    }
   ],
   "source": [
    "# Top 10 most scored subreddits. \n",
    "spark.sql(\"SELECT SUM(score) \\\n",
    "            as total_score, \\\n",
    "            subreddit FROM reddit_df_tbl \\\n",
    "            GROUP BY subreddit \\\n",
    "            ORDER BY total_score \\\n",
    "            DESC LIMIT 10\").show()"
   ]
  },
  {
   "cell_type": "code",
   "execution_count": 64,
   "metadata": {},
   "outputs": [],
   "source": [
    "top10_score = spark.sql(\"SELECT SUM(score) \\\n",
    "                        as total_score, \\\n",
    "                        subreddit FROM reddit_df_tbl \\\n",
    "                        GROUP BY subreddit \\\n",
    "                        ORDER BY total_score \\\n",
    "                        DESC LIMIT 10\")"
   ]
  },
  {
   "cell_type": "code",
   "execution_count": 65,
   "metadata": {},
   "outputs": [],
   "source": [
    "top10_score_pd = top10_score.toPandas()"
   ]
  },
  {
   "cell_type": "code",
   "execution_count": 74,
   "metadata": {},
   "outputs": [
    {
     "data": {
      "text/plain": [
       "<matplotlib.axes._subplots.AxesSubplot at 0x7f6284b2e290>"
      ]
     },
     "execution_count": 74,
     "metadata": {},
     "output_type": "execute_result"
    },
    {
     "data": {
      "image/png": "[encoded data removed]",
      "text/plain": [
       "<Figure size 432x288 with 1 Axes>"
      ]
     },
     "metadata": {
      "needs_background": "light"
     },
     "output_type": "display_data"
    }
   ],
   "source": [
    "top10_score_pd.plot(kind='bar', \n",
    "                    x='subreddit',\n",
    "                    y='total_score', \n",
    "                    title =\"Top 10 Highest Scoring Subreddits\")"
   ]
  },
  {
   "cell_type": "code",
   "execution_count": 79,
   "metadata": {},
   "outputs": [
    {
     "name": "stdout",
     "output_type": "stream",
     "text": [
      "+----------+--------------------+\n",
      "|sum(score)|           subreddit|\n",
      "+----------+--------------------+\n",
      "|      -392|       KarmaRoulette|\n",
      "|       -79| controllablewebcams|\n",
      "|       -21|      adoseofbuckley|\n",
      "|       -18|           EmmaStone|\n",
      "|       -18|     MirandaCosgrove|\n",
      "|       -15|      AnnaTsaralunga|\n",
      "|       -13|TelegramStickersS...|\n",
      "|       -11|   LapDanceSexStance|\n",
      "|       -10|         cassiebrown|\n",
      "|       -10|            katerina|\n",
      "+----------+--------------------+\n",
      "\n"
     ]
    }
   ],
   "source": [
    "# Top 10 least scored subreddits\n",
    "spark.sql(\"SELECT SUM(score), subreddit \\\n",
    "          FROM reddit_df_tbl \\\n",
    "          GROUP BY subreddit \\\n",
    "          ORDER BY SUM(score) \\\n",
    "          ASC LIMIT 10\").show()"
   ]
  },
  {
   "cell_type": "code",
   "execution_count": 75,
   "metadata": {},
   "outputs": [],
   "source": [
    "lowest10_score = spark.sql(\"SELECT SUM(score) \\\n",
    "                        as total_score, \\\n",
    "                        subreddit FROM reddit_df_tbl \\\n",
    "                        GROUP BY subreddit \\\n",
    "                        ORDER BY total_score \\\n",
    "                        ASC LIMIT 10\")"
   ]
  },
  {
   "cell_type": "code",
   "execution_count": 77,
   "metadata": {},
   "outputs": [],
   "source": [
    "lowest10_score_pd = lowest10_score.toPandas()"
   ]
  },
  {
   "cell_type": "code",
   "execution_count": 78,
   "metadata": {},
   "outputs": [
    {
     "data": {
      "text/plain": [
       "<matplotlib.axes._subplots.AxesSubplot at 0x7f6284ac4a50>"
      ]
     },
     "execution_count": 78,
     "metadata": {},
     "output_type": "execute_result"
    },
    {
     "data": {
      "image/png": "[encoded data removed]",
      "text/plain": [
       "<Figure size 432x288 with 1 Axes>"
      ]
     },
     "metadata": {
      "needs_background": "light"
     },
     "output_type": "display_data"
    }
   ],
   "source": [
    "lowest10_score_pd.plot(kind='bar', \n",
    "                       x='subreddit',\n",
    "                       y='total_score', \n",
    "                       title =\"Top 10 Lowest Scoring Subreddits\")"
   ]
  },
  {
   "cell_type": "code",
   "execution_count": 15,
   "metadata": {},
   "outputs": [
    {
     "name": "stdout",
     "output_type": "stream",
     "text": [
      "+---------+\n",
      "|count(id)|\n",
      "+---------+\n",
      "|     9097|\n",
      "+---------+\n",
      "\n"
     ]
    }
   ],
   "source": [
    "# Count the number of comments that received Reddit gold.\n",
    "spark.sql(\"SELECT COUNT(id) FROM reddit_df_tbl WHERE gilded > 0\").show()"
   ]
  },
  {
   "cell_type": "code",
   "execution_count": 16,
   "metadata": {},
   "outputs": [
    {
     "name": "stdout",
     "output_type": "stream",
     "text": [
      "+---------+\n",
      "|count(id)|\n",
      "+---------+\n",
      "| 27230651|\n",
      "+---------+\n",
      "\n"
     ]
    }
   ],
   "source": [
    "# Count the number of positive comments.\n",
    "spark.sql(\"SELECT COUNT(id) FROM reddit_df_tbl WHERE score > 0\").show()"
   ]
  },
  {
   "cell_type": "code",
   "execution_count": 25,
   "metadata": {},
   "outputs": [
    {
     "name": "stdout",
     "output_type": "stream",
     "text": [
      "+---------+\n",
      "|count(id)|\n",
      "+---------+\n",
      "|  1063939|\n",
      "+---------+\n",
      "\n"
     ]
    }
   ],
   "source": [
    "# Count the number of negative comments.\n",
    "spark.sql(\"SELECT COUNT(id) FROM reddit_df_tbl WHERE score < 0\").show()"
   ]
  },
  {
   "cell_type": "code",
   "execution_count": 32,
   "metadata": {},
   "outputs": [
    {
     "name": "stdout",
     "output_type": "stream",
     "text": [
      "+------------------+-----+---------------------------------------------------------------------------------------------------------------------------------------------------------------------------------------------------------------------------------------------------------------------------------------------------------------------------------------------------------------------------------------------------------------------------------------------------------------------------------------------------------------------------------------------------------------------------------------------------------------------------------------+\n",
      "|author            |score|body                                                                                                                                                                                                                                                                                                                                                                                                                                                                                                                                                                                                                                   |\n",
      "+------------------+-----+---------------------------------------------------------------------------------------------------------------------------------------------------------------------------------------------------------------------------------------------------------------------------------------------------------------------------------------------------------------------------------------------------------------------------------------------------------------------------------------------------------------------------------------------------------------------------------------------------------------------------------------+\n",
      "|N8theGr8          |-2252|Redditors are too ugly to be falsely accused of rape anyway, I don't see what they're so worried about. \n",
      "\n",
      "**edit** An hour and we're at 1000 downvotes?  Wow!  I must be a complete POS for saying something like this. \n",
      "\n",
      "Someone go talk to this guy and let him know too:\n",
      "\n",
      "https://thinkprogress.org/trump-says-sexual-assault-accusers-are-too-ugly-for-him-d3be41c0a565/\n",
      "\n",
      "**edit** Well now.  All these PMs I'm getting. I thought that if it was acceptable in Reddit culture to bring up false rape accusations in response to stories about rape, then surely the reverse would be true. I just don't understand reddit at all. |\n",
      "|Hotguy302         |-2048|Thank u                                                                                                                                                                                                                                                                                                                                                                                                                                                                                                                                                                                                                                |\n",
      "|Dohmi             |-1529|Yet you have 230 likes. So humble\n",
      "\n",
      "Edit- thanks for the 1.5 likes guys!!!                                                                                                                                                                                                                                                                                                                                                                                                                                                                                                                                                              |\n",
      "|GodOfAtheism      |-1438|mods good, also bernie good                                                                                                                                                                                                                                                                                                                                                                                                                                                                                                                                                                                                            |\n",
      "|just-a-basic-human|-1234|Damn, my record is 450 \n",
      "\n",
      "Edit: if y’all break it I will literally drink water\n",
      "\n",
      "Edit 2: oh god oh fuck                                                                                                                                                                                                                                                                                                                                                                                                                                                                                                                                  |\n",
      "|Cyrbuzz66         |-1206|You know she’s dead right?                                                                                                                                                                                                                                                                                                                                                                                                                                                                                                                                                                                                             |\n",
      "|pqpqppqppperk     |-1106|This is the worst trade deal in the history of trade deals, maybe ever.                                                                                                                                                                                                                                                                                                                                                                                                                                                                                                                                                                |\n",
      "|gurv503           |-1033|I got u                                                                                                                                                                                                                                                                                                                                                                                                                                                                                                                                                                                                                                |\n",
      "|Krushnev          |-981 |Well, no... because Shireen doesn’t really exist. There’s a real person called Kerry Ingram though who made some money pretending to be a make-believe girl called ‘Shireen’. She seems very nice. I don’t think she takes herself very seriously and good for her.                                                                                                                                                                                                                                                                                                                                                                    |\n",
      "|SKiiiDMark1       |-979 |Isnt that harassment?                                                                                                                                                                                                                                                                                                                                                                                                                                                                                                                                                                                                                  |\n",
      "+------------------+-----+---------------------------------------------------------------------------------------------------------------------------------------------------------------------------------------------------------------------------------------------------------------------------------------------------------------------------------------------------------------------------------------------------------------------------------------------------------------------------------------------------------------------------------------------------------------------------------------------------------------------------------------+\n",
      "\n"
     ]
    }
   ],
   "source": [
    "# Top 10 comments with least score\n",
    "spark.sql(\"SELECT author, score, body FROM reddit_df_tbl ORDER BY score ASC LIMIT 10\").show(truncate=False)"
   ]
  },
  {
   "cell_type": "code",
   "execution_count": 33,
   "metadata": {},
   "outputs": [],
   "source": [
    "sc.stop()"
   ]
  },
  {
   "cell_type": "code",
   "execution_count": null,
   "metadata": {},
   "outputs": [],
   "source": []
  }
 ],
 "metadata": {
  "kernelspec": {
   "display_name": "Python 3",
   "language": "python",
   "name": "python3"
  },
  "language_info": {
   "codemirror_mode": {
    "name": "ipython",
    "version": 3
   },
   "file_extension": ".py",
   "mimetype": "text/x-python",
   "name": "python",
   "nbconvert_exporter": "python",
   "pygments_lexer": "ipython3",
   "version": "3.7.6"
  }
 },
 "nbformat": 4,
 "nbformat_minor": 4
}
