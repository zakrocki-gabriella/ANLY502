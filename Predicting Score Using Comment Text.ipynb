{
 "cells": [
  {
   "cell_type": "code",
   "execution_count": null,
   "metadata": {
    "scrolled": true
   },
   "outputs": [],
   "source": []
  },
  {
   "cell_type": "code",
   "execution_count": 2,
   "metadata": {},
   "outputs": [],
   "source": [
    "import findspark\n",
    "findspark.init()\n",
    "\n",
    "from pyspark import SparkContext\n",
    "sc=SparkContext()\n",
    "\n",
    "from pyspark.sql import SparkSession\n",
    "\n",
    "spark=SparkSession.builder.appName(\"FinalProject\").getOrCreate()\n",
    "\n"
   ]
  },
  {
   "cell_type": "code",
   "execution_count": 3,
   "metadata": {},
   "outputs": [
    {
     "data": {
      "text/html": [
       "\n",
       "        <div>\n",
       "            <p><b>SparkContext</b></p>\n",
       "\n",
       "            <p><a href=\"http://ip-172-31-34-207.ec2.internal:4040\">Spark UI</a></p>\n",
       "\n",
       "            <dl>\n",
       "              <dt>Version</dt>\n",
       "                <dd><code>v2.4.4</code></dd>\n",
       "              <dt>Master</dt>\n",
       "                <dd><code>yarn</code></dd>\n",
       "              <dt>AppName</dt>\n",
       "                <dd><code>pyspark-shell</code></dd>\n",
       "            </dl>\n",
       "        </div>\n",
       "        "
      ],
      "text/plain": [
       "<SparkContext master=yarn appName=pyspark-shell>"
      ]
     },
     "execution_count": 3,
     "metadata": {},
     "output_type": "execute_result"
    }
   ],
   "source": [
    "sc\n"
   ]
  },
  {
   "cell_type": "markdown",
   "metadata": {},
   "source": [
    "Load Reddit data"
   ]
  },
  {
   "cell_type": "code",
   "execution_count": 4,
   "metadata": {},
   "outputs": [],
   "source": [
    "#RedditData=spark.read.json(\"s3://jk2060/final_project/\")\n",
    "\n",
    "RedditData=spark.read.json(\"s3://jk2060/final_project/\")"
   ]
  },
  {
   "cell_type": "code",
   "execution_count": null,
   "metadata": {},
   "outputs": [],
   "source": []
  },
  {
   "cell_type": "code",
   "execution_count": 5,
   "metadata": {},
   "outputs": [
    {
     "name": "stdout",
     "output_type": "stream",
     "text": [
      "+--------+-----------+--------------+------------------+-----------------------------+----------------------+---------------------+------------------------+-----------------+-----------------------+-----------------+---------------+--------------------+--------------------+--------+------------+---------+--------------------+----------------+-----------+-------------+------+------+---------+-------+------------+---------+---------+----------+--------------------+-----------+--------------+------------+-----+------------+--------+------------+------------+-----------------------+--------------+\n",
      "|archived|     author|author_cakeday|author_created_utc|author_flair_background_color|author_flair_css_class|author_flair_richtext|author_flair_template_id|author_flair_text|author_flair_text_color|author_flair_type|author_fullname|author_patreon_flair|                body|can_gild|can_mod_post|collapsed|    collapsed_reason|controversiality|created_utc|distinguished|edited|gilded| gildings|     id|is_submitter|  link_id|no_follow| parent_id|           permalink|quarantined|removal_reason|retrieved_on|score|send_replies|stickied|   subreddit|subreddit_id|subreddit_name_prefixed|subreddit_type|\n",
      "+--------+-----------+--------------+------------------+-----------------------------+----------------------+---------------------+------------------------+-----------------+-----------------------+-----------------+---------------+--------------------+--------------------+--------+------------+---------+--------------------+----------------+-----------+-------------+------+------+---------+-------+------------+---------+---------+----------+--------------------+-----------+--------------+------------+-----+------------+--------+------------+------------+-----------------------+--------------+\n",
      "|    null|  [deleted]|          null|              null|                             |                  null|                 null|                    null|             null|                   dark|             null|           null|                null|           [deleted]|    true|       false|     true|                null|               0| 1550448000|         null| false|     0|[0, 0, 0]|egp0iaf|       false|t3_arqt23|     true| t3_arqt23|/r/teenagersnew/c...|      false|          null|  1554361170|    1|        true|   false|teenagersnew|    t5_hcxiu|         r/teenagersnew|        public|\n",
      "|    null|    Hage1in|          null|        1467151170|                             |               C01 R12|   [[, text, Hanzo,]]|    acf08894-69e6-11e...|            Hanzo|                   dark|         richtext|       t2_z3fm0|               false|That’s it folks. ...|    true|       false|    false|                null|               0| 1550448000|         null| false|     0|[0, 0, 0]|egp0iag|       false|t3_aro48f|    false| t3_aro48f|/r/Overwatch/comm...|      false|          null|  1554361170|    5|        true|   false|   Overwatch|    t5_2u5kl|            r/Overwatch|        public|\n",
      "|    null|     Notosk|          null|        1308133065|                         null|                  null|                   []|                    null|             null|                   null|             text|       t2_5dlw5|               false|For 3 grand it be...|    true|       false|    false|                null|               0| 1550448000|         null| false|     0|[0, 0, 0]|egp0iah|       false|t3_arm1g0|     true|t1_egosu01|/r/funny/comments...|      false|          null|  1554361170|    3|        true|   false|       funny|    t5_2qh33|                r/funny|        public|\n",
      "|    null|chrisnaenae|          null|        1530166640|                         null|                  null|                   []|                    null|             null|                   null|             text|    t2_1nu7bfdh|               false|          Minecraft |    true|       false|     true|comment score bel...|               0| 1550448000|         null| false|     0|[0, 0, 0]|egp0iai|       false|t3_arnajo|     true| t3_arnajo|/r/PS4/comments/a...|      false|          null|  1554361170|   -5|        true|   false|         PS4|    t5_2rrlp|                  r/PS4|        public|\n",
      "|    null|jasonlotito|          null|        1265298374|                         null|                  null|                   []|                    null|             null|                   null|             text|       t2_3v6pl|               false|I was watching Ne...|    true|       false|    false|                null|               0| 1550448000|         null| false|     0|[0, 0, 0]|egp0iaj|       false|t3_arlr9z|     true| t3_arlr9z|/r/PHL_Fusion/com...|      false|          null|  1554361170|    2|        true|   false|  PHL_Fusion|    t5_3prom|           r/PHL_Fusion|        public|\n",
      "+--------+-----------+--------------+------------------+-----------------------------+----------------------+---------------------+------------------------+-----------------+-----------------------+-----------------+---------------+--------------------+--------------------+--------+------------+---------+--------------------+----------------+-----------+-------------+------+------+---------+-------+------------+---------+---------+----------+--------------------+-----------+--------------+------------+-----+------------+--------+------------+------------+-----------------------+--------------+\n",
      "only showing top 5 rows\n",
      "\n"
     ]
    }
   ],
   "source": [
    "RedditData.show(5)"
   ]
  },
  {
   "cell_type": "code",
   "execution_count": 6,
   "metadata": {},
   "outputs": [
    {
     "name": "stdout",
     "output_type": "stream",
     "text": [
      "root\n",
      " |-- archived: boolean (nullable = true)\n",
      " |-- author: string (nullable = true)\n",
      " |-- author_cakeday: boolean (nullable = true)\n",
      " |-- author_created_utc: long (nullable = true)\n",
      " |-- author_flair_background_color: string (nullable = true)\n",
      " |-- author_flair_css_class: string (nullable = true)\n",
      " |-- author_flair_richtext: array (nullable = true)\n",
      " |    |-- element: struct (containsNull = true)\n",
      " |    |    |-- a: string (nullable = true)\n",
      " |    |    |-- e: string (nullable = true)\n",
      " |    |    |-- t: string (nullable = true)\n",
      " |    |    |-- u: string (nullable = true)\n",
      " |-- author_flair_template_id: string (nullable = true)\n",
      " |-- author_flair_text: string (nullable = true)\n",
      " |-- author_flair_text_color: string (nullable = true)\n",
      " |-- author_flair_type: string (nullable = true)\n",
      " |-- author_fullname: string (nullable = true)\n",
      " |-- author_patreon_flair: boolean (nullable = true)\n",
      " |-- body: string (nullable = true)\n",
      " |-- can_gild: boolean (nullable = true)\n",
      " |-- can_mod_post: boolean (nullable = true)\n",
      " |-- collapsed: boolean (nullable = true)\n",
      " |-- collapsed_reason: string (nullable = true)\n",
      " |-- controversiality: long (nullable = true)\n",
      " |-- created_utc: long (nullable = true)\n",
      " |-- distinguished: string (nullable = true)\n",
      " |-- edited: string (nullable = true)\n",
      " |-- gilded: long (nullable = true)\n",
      " |-- gildings: struct (nullable = true)\n",
      " |    |-- gid_1: long (nullable = true)\n",
      " |    |-- gid_2: long (nullable = true)\n",
      " |    |-- gid_3: long (nullable = true)\n",
      " |-- id: string (nullable = true)\n",
      " |-- is_submitter: boolean (nullable = true)\n",
      " |-- link_id: string (nullable = true)\n",
      " |-- no_follow: boolean (nullable = true)\n",
      " |-- parent_id: string (nullable = true)\n",
      " |-- permalink: string (nullable = true)\n",
      " |-- quarantined: boolean (nullable = true)\n",
      " |-- removal_reason: string (nullable = true)\n",
      " |-- retrieved_on: long (nullable = true)\n",
      " |-- score: long (nullable = true)\n",
      " |-- send_replies: boolean (nullable = true)\n",
      " |-- stickied: boolean (nullable = true)\n",
      " |-- subreddit: string (nullable = true)\n",
      " |-- subreddit_id: string (nullable = true)\n",
      " |-- subreddit_name_prefixed: string (nullable = true)\n",
      " |-- subreddit_type: string (nullable = true)\n",
      "\n"
     ]
    }
   ],
   "source": [
    "RedditData.printSchema()"
   ]
  },
  {
   "cell_type": "code",
   "execution_count": 7,
   "metadata": {},
   "outputs": [],
   "source": [
    "import bz2\n",
    "import json\n",
    "import time \n",
    "from pyspark.ml import Pipeline\n",
    "from pyspark.ml.feature import *\n",
    "from pyspark.ml.regression import *\n",
    "from pyspark.ml.evaluation import RegressionEvaluator\n",
    "\n",
    "\n"
   ]
  },
  {
   "cell_type": "markdown",
   "metadata": {},
   "source": [
    "time function to calculate the total time in exexuting the function"
   ]
  },
  {
   "cell_type": "code",
   "execution_count": 8,
   "metadata": {},
   "outputs": [],
   "source": [
    "def time(method):\n",
    "    def timed(*args,**kw):\n",
    "        ts=time.time()\n",
    "        result=method(*args,**kw)\n",
    "        te=time.time()\n",
    "        \n",
    "        print (te-ts,'sec')\n",
    "        return result\n",
    "    return time\n"
   ]
  },
  {
   "cell_type": "markdown",
   "metadata": {},
   "source": [
    "Select the columns \"id\",\"ups\",\"body\" from RedditData"
   ]
  },
  {
   "cell_type": "code",
   "execution_count": 9,
   "metadata": {},
   "outputs": [
    {
     "name": "stdout",
     "output_type": "stream",
     "text": [
      "+-------+-----+--------------------+\n",
      "|     id|score|                body|\n",
      "+-------+-----+--------------------+\n",
      "|egp0iaf|    1|           [deleted]|\n",
      "|egp0iag|    5|That’s it folks. ...|\n",
      "|egp0iah|    3|For 3 grand it be...|\n",
      "|egp0iai|   -5|          Minecraft |\n",
      "|egp0iaj|    2|I was watching Ne...|\n",
      "|egp0iak|    2|Do you have a bui...|\n",
      "|egp0ial|    3|I vaguely remembe...|\n",
      "|egp0iam|    1|Haha, I bet those...|\n",
      "|egp0ian|    6|Staying on Goats ...|\n",
      "|egp0iao|   28|me getting a bad ...|\n",
      "|egp0iap|    2|Well, he just got...|\n",
      "|egp0iaq|    1|If this is a dank...|\n",
      "|egp0iar|    4|Thanks. It's a sh...|\n",
      "|egp0ias|    1|Thanks for the ad...|\n",
      "|egp0iat|    2|             who dat|\n",
      "|egp0iau|    1|              +karma|\n",
      "|egp0iav|    2|   Not a bad lineup |\n",
      "|egp0iaw|    7|Yeah we call thos...|\n",
      "|egp0iax|    1|Hello, we only al...|\n",
      "|egp0iay|   15|It's not the same...|\n",
      "+-------+-----+--------------------+\n",
      "only showing top 20 rows\n",
      "\n"
     ]
    }
   ],
   "source": [
    "PartialDF=RedditData.select('id','score','body')\n",
    "PartialDF.show()\n"
   ]
  },
  {
   "cell_type": "markdown",
   "metadata": {},
   "source": [
    "Tokenize comment bodies as array and remove stop words"
   ]
  },
  {
   "cell_type": "markdown",
   "metadata": {},
   "source": [
    "\n",
    "\n"
   ]
  },
  {
   "cell_type": "code",
   "execution_count": 10,
   "metadata": {},
   "outputs": [
    {
     "name": "stdout",
     "output_type": "stream",
     "text": [
      "+-------+-----+--------------------+\n",
      "|     id|score|         NoStopWords|\n",
      "+-------+-----+--------------------+\n",
      "|egp0iaf|    1|         [[deleted]]|\n",
      "|egp0iag|    5|[that’s, folks., ...|\n",
      "|egp0iah|    3|  [3, grand, better]|\n",
      "|egp0iai|   -5|         [minecraft]|\n",
      "|egp0iaj|    2|[watching, neptun...|\n",
      "|egp0iak|    2|[build, list?, cu...|\n",
      "|egp0ial|    3|[vaguely, remembe...|\n",
      "|egp0iam|    1|[haha,, bet, two,...|\n",
      "|egp0ian|    6|[staying, goats, ...|\n",
      "|egp0iao|   28|[getting, bad, gr...|\n",
      "|egp0iap|    2|[well,, got, heal...|\n",
      "|egp0iaq|    1|[dank, meme,, **u...|\n",
      "|egp0iar|    4|[thanks., shame,,...|\n",
      "|egp0ias|    1|[thanks, advice,,...|\n",
      "|egp0iat|    2|               [dat]|\n",
      "|egp0iau|    1|            [+karma]|\n",
      "|egp0iav|    2|       [bad, lineup]|\n",
      "|egp0iaw|    7|[yeah, call, warm...|\n",
      "|egp0iax|    1|[hello,, allow, p...|\n",
      "|egp0iay|   15|[quality, dude,, ...|\n",
      "+-------+-----+--------------------+\n",
      "only showing top 20 rows\n",
      "\n"
     ]
    }
   ],
   "source": [
    "#Tokenize\n",
    "tokenizer=Tokenizer(inputCol=\"body\",outputCol=\"words\")\n",
    "TokenizedDF=tokenizer.transform(PartialDF)\n",
    "\n",
    "#Remove stop words\n",
    "Remover=StopWordsRemover(inputCol=\"words\",outputCol=\"NoStopWords\")\n",
    "NoStopWords_DF=Remover.transform(TokenizedDF)\n",
    "\n",
    "\n",
    "FinalWords=NoStopWords_DF.select('id','score','NoStopWords')\n",
    "FinalWords.show()\n",
    "\n",
    "\n"
   ]
  },
  {
   "cell_type": "markdown",
   "metadata": {},
   "source": [
    "## Two methods in determining bag of words.\n",
    "\n",
    "For CV, it creates a bag of words found in the body of comments\n",
    "\n",
    "For HTF, it creates a bag of words found in the body of comments,but place similiar words in the same bucket\n",
    "\n",
    "\n",
    "\n"
   ]
  },
  {
   "cell_type": "code",
   "execution_count": 11,
   "metadata": {},
   "outputs": [],
   "source": [
    "def termF(df,inputCol,outputCol,hashFeatures=None):\n",
    "    if hashFeatures is None:\n",
    "        cv=CountVectorizer(inputCol=inputCol,outputCol=outputCol)\n",
    "        feature_extract=cv.fit(FinalWords)\n",
    "    else:\n",
    "        feature_extract=HashingTF(inputCol=inputCol,outputCol=outputCol,numFeatures=hashFeatures)\n",
    "        \n",
    "    return feature_extract.transform(df)\n",
    "        \n",
    "        \n",
    "        \n",
    "        "
   ]
  },
  {
   "cell_type": "code",
   "execution_count": 12,
   "metadata": {},
   "outputs": [
    {
     "name": "stdout",
     "output_type": "stream",
     "text": [
      "+-------+-----+--------------------+--------------------+\n",
      "|     id|score|         NoStopWords|            features|\n",
      "+-------+-----+--------------------+--------------------+\n",
      "|egp0iaf|    1|         [[deleted]]| (262144,[12],[1.0])|\n",
      "|egp0iag|    5|[that’s, folks., ...|(262144,[119,772,...|\n",
      "|egp0iah|    3|  [3, grand, better]|(262144,[44,116,2...|\n",
      "|egp0iai|   -5|         [minecraft]|(262144,[4983],[1...|\n",
      "|egp0iaj|    2|[watching, neptun...|(262144,[521,794,...|\n",
      "+-------+-----+--------------------+--------------------+\n",
      "only showing top 5 rows\n",
      "\n",
      "+--------------------+--------------------+\n",
      "|         NoStopWords|            features|\n",
      "+--------------------+--------------------+\n",
      "|         [[deleted]]| (262144,[12],[1.0])|\n",
      "|[that’s, folks., ...|(262144,[119,772,...|\n",
      "|  [3, grand, better]|(262144,[44,116,2...|\n",
      "|         [minecraft]|(262144,[4983],[1...|\n",
      "|[watching, neptun...|(262144,[521,794,...|\n",
      "+--------------------+--------------------+\n",
      "only showing top 5 rows\n",
      "\n"
     ]
    }
   ],
   "source": [
    "cvDF=termF(df=FinalWords,inputCol=\"NoStopWords\",outputCol=\"features\")\n",
    "\n",
    "cvDF.show(5)\n",
    "cvDF.select('NoStopWords','features').show(5)\n",
    "\n",
    "\n"
   ]
  },
  {
   "cell_type": "code",
   "execution_count": 13,
   "metadata": {},
   "outputs": [
    {
     "name": "stdout",
     "output_type": "stream",
     "text": [
      "+--------------------+--------------------+\n",
      "|         NoStopWords|            features|\n",
      "+--------------------+--------------------+\n",
      "|         [[deleted]]|  (1024,[953],[1.0])|\n",
      "|[that’s, folks., ...|(1024,[719,732,73...|\n",
      "|  [3, grand, better]|(1024,[205,585,10...|\n",
      "|         [minecraft]|  (1024,[279],[1.0])|\n",
      "|[watching, neptun...|(1024,[283,365,39...|\n",
      "+--------------------+--------------------+\n",
      "only showing top 5 rows\n",
      "\n"
     ]
    }
   ],
   "source": [
    "hftDF=termF(df=FinalWords,inputCol=\"NoStopWords\",outputCol=\"features\",hashFeatures=1024)\n",
    "\n",
    "hftDF.select('NoStopWords','features').show(5)\n",
    "\n"
   ]
  },
  {
   "cell_type": "code",
   "execution_count": null,
   "metadata": {},
   "outputs": [],
   "source": []
  },
  {
   "cell_type": "code",
   "execution_count": null,
   "metadata": {},
   "outputs": [],
   "source": []
  },
  {
   "cell_type": "markdown",
   "metadata": {},
   "source": [
    "## Machine Learning: Random Forest Regressor\n",
    "\n",
    "We will implement Random Forest Regressor to see the computation and accuracy. \n",
    "\n",
    "\n"
   ]
  },
  {
   "cell_type": "code",
   "execution_count": 14,
   "metadata": {},
   "outputs": [],
   "source": [
    "def RandomForestRegression(df,featuresCol,labelCol):\n",
    "    (TrainDF,TestDF)=df.randomSplit([0.8,0.2])\n",
    "    \n",
    "    df_RFR=RandomForestRegressor(featuresCol=featuresCol,labelCol=labelCol)\n",
    "    \n",
    "    model=df_RFR.fit(TrainDF)\n",
    "    \n",
    "    predictions=model.transform(TestDF)\n",
    "    \n",
    "    return predictions"
   ]
  },
  {
   "cell_type": "code",
   "execution_count": null,
   "metadata": {},
   "outputs": [],
   "source": [
    "#CV method: prediction and evaluation\n",
    "\n",
    "predictions=RandomForestRegression(df=cvDF,featuresCol=\"features\",labelCol=\"score\")\n",
    "\n",
    "predictions.show(5)\n",
    "\n",
    "evaluator=RegressionEvaluator(labelCol=\"score\",predictionCol=\"prediction\",metricName=\"rmse\")\n",
    "rmse=evaluator.evaluate(predictions)\n",
    "\n",
    "\n",
    "#We've tried it, but took more than 3 hours and nothing finished.\n"
   ]
  },
  {
   "cell_type": "code",
   "execution_count": 15,
   "metadata": {
    "scrolled": true
   },
   "outputs": [
    {
     "name": "stdout",
     "output_type": "stream",
     "text": [
      "+-------+-----+--------------------+--------------------+-----------------+\n",
      "|     id|score|         NoStopWords|            features|       prediction|\n",
      "+-------+-----+--------------------+--------------------+-----------------+\n",
      "|egp0ial|    3|[vaguely, remembe...|(1024,[261,279,36...|8.445206051243071|\n",
      "|egp0ias|    1|[thanks, advice,,...|(1024,[411,606,72...|8.445206051243071|\n",
      "|egp0iaz|    1|[[right,, yes...,...|(1024,[10,215,307...|8.445206051243071|\n",
      "|egp0ib7|    2|[mark, henry, kev...|(1024,[220,273,57...|8.445206051243071|\n",
      "|egp0ibb|    3|[&gt;, betty, cro...|(1024,[170,304,34...|8.691576235924545|\n",
      "+-------+-----+--------------------+--------------------+-----------------+\n",
      "only showing top 5 rows\n",
      "\n"
     ]
    }
   ],
   "source": [
    "#HTF method: prediction and evaluation\n",
    "\n",
    "predictions=RandomForestRegression(df=hftDF,featuresCol=\"features\",labelCol=\"score\")\n",
    "\n",
    "predictions.show(5)\n",
    "\n",
    "evaluator=RegressionEvaluator(labelCol=\"score\",predictionCol=\"prediction\",metricName=\"rmse\")\n",
    "rmse=evaluator.evaluate(predictions)\n",
    "\n"
   ]
  },
  {
   "cell_type": "code",
   "execution_count": 16,
   "metadata": {},
   "outputs": [
    {
     "name": "stdout",
     "output_type": "stream",
     "text": [
      "123.71892122055176\n"
     ]
    }
   ],
   "source": [
    "print(rmse)"
   ]
  },
  {
   "cell_type": "code",
   "execution_count": null,
   "metadata": {},
   "outputs": [],
   "source": []
  },
  {
   "cell_type": "code",
   "execution_count": null,
   "metadata": {},
   "outputs": [],
   "source": []
  },
  {
   "cell_type": "code",
   "execution_count": 17,
   "metadata": {},
   "outputs": [],
   "source": [
    "\n",
    "sc.stop()\n"
   ]
  },
  {
   "cell_type": "code",
   "execution_count": null,
   "metadata": {},
   "outputs": [],
   "source": []
  }
 ],
 "metadata": {
  "kernelspec": {
   "display_name": "Python 3",
   "language": "python",
   "name": "python3"
  },
  "language_info": {
   "codemirror_mode": {
    "name": "ipython",
    "version": 3
   },
   "file_extension": ".py",
   "mimetype": "text/x-python",
   "name": "python",
   "nbconvert_exporter": "python",
   "pygments_lexer": "ipython3",
   "version": "3.7.6"
  }
 },
 "nbformat": 4,
 "nbformat_minor": 4
}
