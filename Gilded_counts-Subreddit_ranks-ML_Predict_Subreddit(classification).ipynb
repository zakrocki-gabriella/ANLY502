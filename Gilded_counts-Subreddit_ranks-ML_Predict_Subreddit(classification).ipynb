{
 "cells": [
  {
   "cell_type": "code",
   "execution_count": 1,
   "metadata": {},
   "outputs": [],
   "source": [
    "import findspark\n",
    "findspark.init()\n",
    "\n",
    "from pyspark import SparkContext\n",
    "sc = SparkContext()\n",
    "\n",
    "from pyspark.sql import SparkSession\n",
    "spark = SparkSession.builder.appName(\"Mini-Project\").getOrCreate()"
   ]
  },
  {
   "cell_type": "code",
   "execution_count": 2,
   "metadata": {},
   "outputs": [],
   "source": [
    "from pyspark.sql.types import *\n",
    "from pyspark.sql.functions import col\n",
    "import pandas as pd\n",
    "import numpy as np\n",
    "from pyspark.ml.evaluation import ClusteringEvaluator\n",
    "from pyspark.ml.feature import HashingTF, IDF, Tokenizer, CountVectorizer, StopWordsRemover\n",
    "from pyspark.ml.clustering import KMeans\n",
    "from pyspark.ml import Pipeline\n",
    "from matplotlib import pyplot as plt"
   ]
  },
  {
   "cell_type": "code",
   "execution_count": 3,
   "metadata": {},
   "outputs": [],
   "source": [
    "rc = spark.read.format('json').load('s3://jk2060/final_project')"
   ]
  },
  {
   "cell_type": "code",
   "execution_count": 4,
   "metadata": {},
   "outputs": [
    {
     "data": {
      "text/plain": [
       "[Row(archived=None, author='[deleted]', author_cakeday=None, author_created_utc=None, author_flair_background_color='', author_flair_css_class=None, author_flair_richtext=None, author_flair_template_id=None, author_flair_text=None, author_flair_text_color='dark', author_flair_type=None, author_fullname=None, author_patreon_flair=None, body='[deleted]', can_gild=True, can_mod_post=False, collapsed=True, collapsed_reason=None, controversiality=0, created_utc=1550448000, distinguished=None, edited='false', gilded=0, gildings=Row(gid_1=0, gid_2=0, gid_3=0), id='egp0iaf', is_submitter=False, link_id='t3_arqt23', no_follow=True, parent_id='t3_arqt23', permalink='/r/teenagersnew/comments/arqt23/nothing_better_than_some_french_songs/egp0iaf/', quarantined=False, removal_reason=None, retrieved_on=1554361170, score=1, send_replies=True, stickied=False, subreddit='teenagersnew', subreddit_id='t5_hcxiu', subreddit_name_prefixed='r/teenagersnew', subreddit_type='public'),\n",
       " Row(archived=None, author='Hage1in', author_cakeday=None, author_created_utc=1467151170, author_flair_background_color='', author_flair_css_class='C01 R12', author_flair_richtext=[Row(a=None, e='text', t='Hanzo', u=None)], author_flair_template_id='acf08894-69e6-11e4-9233-12313d14a2eb', author_flair_text='Hanzo', author_flair_text_color='dark', author_flair_type='richtext', author_fullname='t2_z3fm0', author_patreon_flair=False, body='That’s it folks. Match of the year. Wrap it up', can_gild=True, can_mod_post=False, collapsed=False, collapsed_reason=None, controversiality=0, created_utc=1550448000, distinguished=None, edited='false', gilded=0, gildings=Row(gid_1=0, gid_2=0, gid_3=0), id='egp0iag', is_submitter=False, link_id='t3_aro48f', no_follow=False, parent_id='t3_aro48f', permalink='/r/Overwatch/comments/aro48f/overwatch_league_2019_season_stage_1week_1day_4/egp0iag/', quarantined=False, removal_reason=None, retrieved_on=1554361170, score=5, send_replies=True, stickied=False, subreddit='Overwatch', subreddit_id='t5_2u5kl', subreddit_name_prefixed='r/Overwatch', subreddit_type='public'),\n",
       " Row(archived=None, author='Notosk', author_cakeday=None, author_created_utc=1308133065, author_flair_background_color=None, author_flair_css_class=None, author_flair_richtext=[], author_flair_template_id=None, author_flair_text=None, author_flair_text_color=None, author_flair_type='text', author_fullname='t2_5dlw5', author_patreon_flair=False, body='For 3 grand it better does', can_gild=True, can_mod_post=False, collapsed=False, collapsed_reason=None, controversiality=0, created_utc=1550448000, distinguished=None, edited='false', gilded=0, gildings=Row(gid_1=0, gid_2=0, gid_3=0), id='egp0iah', is_submitter=False, link_id='t3_arm1g0', no_follow=True, parent_id='t1_egosu01', permalink='/r/funny/comments/arm1g0/i_work_at_the_home_depot_in_the_appliance/egp0iah/', quarantined=False, removal_reason=None, retrieved_on=1554361170, score=3, send_replies=True, stickied=False, subreddit='funny', subreddit_id='t5_2qh33', subreddit_name_prefixed='r/funny', subreddit_type='public'),\n",
       " Row(archived=None, author='chrisnaenae', author_cakeday=None, author_created_utc=1530166640, author_flair_background_color=None, author_flair_css_class=None, author_flair_richtext=[], author_flair_template_id=None, author_flair_text=None, author_flair_text_color=None, author_flair_type='text', author_fullname='t2_1nu7bfdh', author_patreon_flair=False, body='Minecraft ', can_gild=True, can_mod_post=False, collapsed=True, collapsed_reason='comment score below threshold', controversiality=0, created_utc=1550448000, distinguished=None, edited='false', gilded=0, gildings=Row(gid_1=0, gid_2=0, gid_3=0), id='egp0iai', is_submitter=False, link_id='t3_arnajo', no_follow=True, parent_id='t3_arnajo', permalink='/r/PS4/comments/arnajo/video_dragon_quest_builders_2_a_day_in_the_life/egp0iai/', quarantined=False, removal_reason=None, retrieved_on=1554361170, score=-5, send_replies=True, stickied=False, subreddit='PS4', subreddit_id='t5_2rrlp', subreddit_name_prefixed='r/PS4', subreddit_type='public'),\n",
       " Row(archived=None, author='jasonlotito', author_cakeday=None, author_created_utc=1265298374, author_flair_background_color=None, author_flair_css_class=None, author_flair_richtext=[], author_flair_template_id=None, author_flair_text=None, author_flair_text_color=None, author_flair_type='text', author_fullname='t2_3v6pl', author_patreon_flair=False, body='I was watching Neptuno PoV and OMFG! I mean, I know, but wow, that was amazing!', can_gild=True, can_mod_post=False, collapsed=False, collapsed_reason=None, controversiality=0, created_utc=1550448000, distinguished=None, edited='false', gilded=0, gildings=Row(gid_1=0, gid_2=0, gid_3=0), id='egp0iaj', is_submitter=False, link_id='t3_arlr9z', no_follow=True, parent_id='t3_arlr9z', permalink='/r/PHL_Fusion/comments/arlr9z/match_thread_philadelphia_fusion_vs_atlanta_reign/egp0iaj/', quarantined=False, removal_reason=None, retrieved_on=1554361170, score=2, send_replies=True, stickied=False, subreddit='PHL_Fusion', subreddit_id='t5_3prom', subreddit_name_prefixed='r/PHL_Fusion', subreddit_type='public')]"
      ]
     },
     "execution_count": 4,
     "metadata": {},
     "output_type": "execute_result"
    }
   ],
   "source": [
    "rc.take(5)"
   ]
  },
  {
   "cell_type": "code",
   "execution_count": 5,
   "metadata": {},
   "outputs": [
    {
     "data": {
      "text/plain": [
       "DataFrame[archived: boolean, author: string, author_cakeday: boolean, author_created_utc: bigint, author_flair_background_color: string, author_flair_css_class: string, author_flair_richtext: array<struct<a:string,e:string,t:string,u:string>>, author_flair_template_id: string, author_flair_text: string, author_flair_text_color: string, author_flair_type: string, author_fullname: string, author_patreon_flair: boolean, body: string, can_gild: boolean, can_mod_post: boolean, collapsed: boolean, collapsed_reason: string, controversiality: bigint, created_utc: bigint, distinguished: string, edited: string, gilded: bigint, gildings: struct<gid_1:bigint,gid_2:bigint,gid_3:bigint>, id: string, is_submitter: boolean, link_id: string, no_follow: boolean, parent_id: string, permalink: string, quarantined: boolean, removal_reason: string, retrieved_on: bigint, score: bigint, send_replies: boolean, stickied: boolean, subreddit: string, subreddit_id: string, subreddit_name_prefixed: string, subreddit_type: string]"
      ]
     },
     "execution_count": 5,
     "metadata": {},
     "output_type": "execute_result"
    }
   ],
   "source": [
    "rc.cache()"
   ]
  },
  {
   "cell_type": "code",
   "execution_count": 6,
   "metadata": {},
   "outputs": [],
   "source": [
    "#remove the deleted comments from the dataset\n",
    "rc = rc.filter(\"body != '[deleted]'\")"
   ]
  },
  {
   "cell_type": "code",
   "execution_count": 10,
   "metadata": {},
   "outputs": [
    {
     "data": {
      "text/plain": [
       "[('key', 29273619)]"
      ]
     },
     "execution_count": 10,
     "metadata": {},
     "output_type": "execute_result"
    }
   ],
   "source": [
    "rc.rdd \\\n",
    "    .map(lambda comment: ('key', 1)) \\\n",
    "    .reduceByKey(lambda accum, n: accum + n) \\\n",
    "    .collect()"
   ]
  },
  {
   "cell_type": "code",
   "execution_count": 11,
   "metadata": {},
   "outputs": [],
   "source": [
    "rc.createOrReplaceTempView('rc')"
   ]
  },
  {
   "cell_type": "code",
   "execution_count": 12,
   "metadata": {},
   "outputs": [],
   "source": [
    "#sort subreddit type\n",
    "subreddit_counts = spark.sql(\"\\\n",
    "SELECT subreddit, COUNT(*) as count \\\n",
    "FROM rc \\\n",
    "GROUP BY subreddit \\\n",
    "ORDER BY count DESC \\\n",
    "LIMIT 10\")"
   ]
  },
  {
   "cell_type": "code",
   "execution_count": 13,
   "metadata": {},
   "outputs": [
    {
     "name": "stdout",
     "output_type": "stream",
     "text": [
      "+--------------------+-------+\n",
      "|           subreddit|  count|\n",
      "+--------------------+-------+\n",
      "|           AskReddit|1433433|\n",
      "|            politics| 504507|\n",
      "|         apexlegends| 281622|\n",
      "|               memes| 272613|\n",
      "|           dankmemes| 262786|\n",
      "|                 nba| 262240|\n",
      "|               funny| 247514|\n",
      "|          The_Donald| 214529|\n",
      "|       AnthemTheGame| 208098|\n",
      "|           teenagers| 206026|\n",
      "|              gaming| 195985|\n",
      "|    unpopularopinion| 181864|\n",
      "|            AskOuija| 178997|\n",
      "|              soccer| 175285|\n",
      "|           worldnews| 167763|\n",
      "|       SquaredCircle| 166623|\n",
      "|PewdiepieSubmissions| 164727|\n",
      "|                pics| 159879|\n",
      "|          FortNiteBR| 158387|\n",
      "|                news| 155126|\n",
      "+--------------------+-------+\n",
      "only showing top 20 rows\n",
      "\n"
     ]
    }
   ],
   "source": [
    "spark.sql(\"\\\n",
    "SELECT subreddit, COUNT(*) as count \\\n",
    "FROM rc \\\n",
    "GROUP BY subreddit \\\n",
    "ORDER BY count DESC\").show()"
   ]
  },
  {
   "cell_type": "code",
   "execution_count": 16,
   "metadata": {},
   "outputs": [],
   "source": [
    "spark.conf.set(\"spark.sql.execution.arrow.enabled\", \"false\")\n",
    "subreddit_counts_pd = subreddit_counts.select(\"*\").toPandas()"
   ]
  },
  {
   "cell_type": "code",
   "execution_count": 17,
   "metadata": {},
   "outputs": [
    {
     "data": {
      "text/plain": [
       "(array([0, 1, 2, 3, 4, 5, 6, 7, 8, 9]), <a list of 10 Text xticklabel objects>)"
      ]
     },
     "execution_count": 17,
     "metadata": {},
     "output_type": "execute_result"
    },
    {
     "data": {
      "image/png": "[encoded data removed]",
      "text/plain": [
       "<Figure size 432x288 with 1 Axes>"
      ]
     },
     "metadata": {
      "needs_background": "light"
     },
     "output_type": "display_data"
    }
   ],
   "source": [
    "#plot the subreddit type ranking\n",
    "subreddit_counts_pd.plot(kind='bar',x='subreddit',y='count')\n",
    "plt.title('Count of each type of subreddit')\n",
    "plt.xticks(rotation=45)"
   ]
  },
  {
   "cell_type": "code",
   "execution_count": 18,
   "metadata": {},
   "outputs": [
    {
     "name": "stdout",
     "output_type": "stream",
     "text": [
      "+-------------------+-------------+\n",
      "|             author|gild_received|\n",
      "+-------------------+-------------+\n",
      "|  TheBirminghamBear|           36|\n",
      "|       Mattwatson07|           35|\n",
      "|  SchnoodleDoodleDo|           33|\n",
      "|    TooShiftyForYou|           17|\n",
      "|          _demetri_|           15|\n",
      "|SerAmantiodiNicolao|           12|\n",
      "|     baconistheking|           12|\n",
      "|        PoppinKREAM|           12|\n",
      "|         NotTheBelt|           10|\n",
      "|      shepherdmetal|            9|\n",
      "|     fellowrugbyfan|            8|\n",
      "|     starstarstar42|            8|\n",
      "|           Applango|            7|\n",
      "|        gigababejfl|            7|\n",
      "|          ruchir031|            7|\n",
      "|      Ethan_Johnson|            7|\n",
      "|               gmks|            7|\n",
      "|         heygirl333|            7|\n",
      "|  apocaloptimistnow|            7|\n",
      "|Poem_for_your_sprog|            7|\n",
      "+-------------------+-------------+\n",
      "only showing top 20 rows\n",
      "\n"
     ]
    }
   ],
   "source": [
    "spark.sql(\"\\\n",
    "SELECT author, SUM(gilded) as gild_received \\\n",
    "FROM rc \\\n",
    "WHERE author != '[deleted]' \\\n",
    "GROUP BY author \\\n",
    "ORDER BY gild_received DESC\").show()"
   ]
  },
  {
   "cell_type": "code",
   "execution_count": 19,
   "metadata": {},
   "outputs": [],
   "source": [
    "gild = spark.sql(\"\\\n",
    "SELECT author, SUM(gilded) as gild_received \\\n",
    "FROM rc \\\n",
    "WHERE author != '[deleted]' \\\n",
    "GROUP BY author \\\n",
    "ORDER BY gild_received DESC \\\n",
    "LIMIT 10\")"
   ]
  },
  {
   "cell_type": "code",
   "execution_count": 20,
   "metadata": {},
   "outputs": [],
   "source": [
    "gild_pd = gild.toPandas()"
   ]
  },
  {
   "cell_type": "code",
   "execution_count": 21,
   "metadata": {},
   "outputs": [
    {
     "data": {
      "text/plain": [
       "(array([0, 1, 2, 3, 4, 5, 6, 7, 8, 9]), <a list of 10 Text xticklabel objects>)"
      ]
     },
     "execution_count": 21,
     "metadata": {},
     "output_type": "execute_result"
    },
    {
     "data": {
      "image/png": "[encoded data removed]",
      "text/plain": [
       "<Figure size 432x288 with 1 Axes>"
      ]
     },
     "metadata": {
      "needs_background": "light"
     },
     "output_type": "display_data"
    }
   ],
   "source": [
    "gild_pd.plot(kind='bar',x='author',y='gild_received')\n",
    "plt.title('Gild ranking of author')\n",
    "plt.xticks(rotation=45)"
   ]
  },
  {
   "cell_type": "markdown",
   "metadata": {},
   "source": [
    "Predict subreddit based on comment (classification)"
   ]
  },
  {
   "cell_type": "code",
   "execution_count": 22,
   "metadata": {},
   "outputs": [],
   "source": [
    "from pyspark.ml.classification import *\n",
    "from pyspark.ml.evaluation import MulticlassClassificationEvaluator\n",
    "from pyspark.ml import Pipeline, Model\n",
    "from pyspark.ml.feature import * # CountVectorizer, Tokenizer, RegexTokenizer, HashingTF"
   ]
  },
  {
   "cell_type": "code",
   "execution_count": 25,
   "metadata": {},
   "outputs": [
    {
     "name": "stdout",
     "output_type": "stream",
     "text": [
      "\n",
      "The total number of comments in the top five themed subreddits: 2602191\n"
     ]
    }
   ],
   "source": [
    "top_five_themed_subreddits = {'AskReddit','politics','nba','teenagers','gaming'}\n",
    "\n",
    "df = rc.select('id','body','subreddit').where(col('subreddit').isin(top_five_themed_subreddits))\n",
    "\n",
    "print (\"\\nThe total number of comments in the top five themed subreddits:\",df.count())"
   ]
  },
  {
   "cell_type": "code",
   "execution_count": 26,
   "metadata": {},
   "outputs": [],
   "source": [
    "#convert subreddit string to number\n",
    "labelIndexer = StringIndexer(inputCol = \"subreddit\", outputCol = \"subreddit_num\")\n",
    "labelCol = labelIndexer.getOutputCol()\n",
    "\n",
    "#Convert body of comment to tokens\n",
    "tokenizer = RegexTokenizer(inputCol = 'body', outputCol = 'tokens', pattern = '\\W', minTokenLength = 2)\n",
    "\n",
    "#Remove stop words from tokens\n",
    "remover = StopWordsRemover(inputCol = tokenizer.getOutputCol(), outputCol = \"tokens_filtered\")\n",
    "\n",
    "#Hash tokens into a feature hashed matrix\n",
    "hashingTF = HashingTF(inputCol = remover.getOutputCol(), outputCol = 'features', numFeatures = 1024)\n",
    "\n",
    "#Calculate the TF_IDF of the words, this will put let emphasis on words that appear more often\n",
    "idf = IDF(inputCol = hashingTF.getOutputCol(), outputCol = \"tf_idf_features\")\n",
    "\n",
    "#Train a random forest classifier\n",
    "rf = RandomForestClassifier(labelCol = labelCol, featuresCol = idf.getOutputCol(), numTrees = 3)\n",
    "\n",
    "#Steps in pipeline, tokenize, hash then model\n",
    "pipeline = Pipeline(stages = [labelIndexer, tokenizer, remover, hashingTF, idf, rf])\n",
    "\n",
    "#Split data into training and test\n",
    "(train, test) = df.randomSplit([0.8, 0.2])\n",
    "\n",
    "#Fit model\n",
    "model = pipeline.fit(train)\n",
    "prediction = model.transform(test)"
   ]
  },
  {
   "cell_type": "code",
   "execution_count": 28,
   "metadata": {},
   "outputs": [
    {
     "name": "stdout",
     "output_type": "stream",
     "text": [
      "Accuracy = 0.558603\n"
     ]
    }
   ],
   "source": [
    "evaluator = MulticlassClassificationEvaluator(labelCol = labelCol, predictionCol = \"prediction\", metricName = \"accuracy\")\n",
    "\n",
    "accuracy = evaluator.evaluate(prediction)\n",
    "\n",
    "print(\"Accuracy = %g\" % accuracy)"
   ]
  },
  {
   "cell_type": "code",
   "execution_count": 67,
   "metadata": {},
   "outputs": [],
   "source": [
    "sc.stop()"
   ]
  },
  {
   "cell_type": "code",
   "execution_count": null,
   "metadata": {},
   "outputs": [],
   "source": []
  }
 ],
 "metadata": {
  "kernelspec": {
   "display_name": "Python 3",
   "language": "python",
   "name": "python3"
  },
  "language_info": {
   "codemirror_mode": {
    "name": "ipython",
    "version": 3
   },
   "file_extension": ".py",
   "mimetype": "text/x-python",
   "name": "python",
   "nbconvert_exporter": "python",
   "pygments_lexer": "ipython3",
   "version": "3.7.6"
  }
 },
 "nbformat": 4,
 "nbformat_minor": 4
}
